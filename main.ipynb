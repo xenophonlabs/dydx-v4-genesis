{
 "cells": [
  {
   "cell_type": "code",
   "execution_count": 1,
   "metadata": {},
   "outputs": [],
   "source": [
    "import json\n",
    "from pprint import pprint as pp\n",
    "import requests as req"
   ]
  },
  {
   "cell_type": "code",
   "execution_count": 17,
   "metadata": {},
   "outputs": [
    {
     "data": {
      "text/plain": [
       "<Response [200]>"
      ]
     },
     "execution_count": 17,
     "metadata": {},
     "output_type": "execute_result"
    }
   ],
   "source": [
    "url = 'https://dydx-testnet-archive.allthatnode.com:26657'\n",
    "headers = {\"Content-Type\": \"application/json\"}\n",
    "data = '{\"jsonrpc\":\"2.0\", \"id\":1, \"method\":\"genesis\"}'\n",
    "\n",
    "res = req.get(url, headers=headers, data=data)\n",
    "res"
   ]
  },
  {
   "cell_type": "code",
   "execution_count": 18,
   "metadata": {},
   "outputs": [],
   "source": [
    "data = res.json()['result']['genesis']['app_state']"
   ]
  },
  {
   "cell_type": "code",
   "execution_count": 19,
   "metadata": {},
   "outputs": [],
   "source": [
    "with open('genesis.json', 'w') as f:\n",
    "    json.dump(data, f)"
   ]
  },
  {
   "cell_type": "code",
   "execution_count": 20,
   "metadata": {},
   "outputs": [
    {
     "data": {
      "text/plain": [
       "dict_keys(['assets', 'auth', 'bank', 'blocktime', 'bridge', 'capability', 'clob', 'crisis', 'delaymsg', 'distribution', 'epochs', 'feegrant', 'feetiers', 'genutil', 'gov', 'ibc', 'perpetuals', 'prices', 'rewards', 'sending', 'slashing', 'staking', 'stats', 'subaccounts', 'transfer', 'upgrade', 'vest'])"
      ]
     },
     "execution_count": 20,
     "metadata": {},
     "output_type": "execute_result"
    }
   ],
   "source": [
    "data.keys()"
   ]
  },
  {
   "cell_type": "code",
   "execution_count": 21,
   "metadata": {},
   "outputs": [
    {
     "data": {
      "text/plain": [
       "['BTC-USD',\n",
       " 'ETH-USD',\n",
       " 'LINK-USD',\n",
       " 'MATIC-USD',\n",
       " 'CRV-USD',\n",
       " 'SOL-USD',\n",
       " 'ADA-USD',\n",
       " 'AVAX-USD',\n",
       " 'FIL-USD',\n",
       " 'LTC-USD',\n",
       " 'DOGE-USD',\n",
       " 'ATOM-USD',\n",
       " 'DOT-USD',\n",
       " 'UNI-USD',\n",
       " 'BCH-USD',\n",
       " 'TRX-USD',\n",
       " 'NEAR-USD',\n",
       " 'MKR-USD',\n",
       " 'XLM-USD',\n",
       " 'ETC-USD',\n",
       " 'COMP-USD',\n",
       " 'WLD-USD',\n",
       " 'APE-USD',\n",
       " 'APT-USD',\n",
       " 'ARB-USD',\n",
       " 'BLUR-USD',\n",
       " 'LDO-USD',\n",
       " 'OP-USD',\n",
       " 'PEPE-USD',\n",
       " 'SEI-USD',\n",
       " 'SHIB-USD',\n",
       " 'SUI-USD',\n",
       " 'XRP-USD']"
      ]
     },
     "execution_count": 21,
     "metadata": {},
     "output_type": "execute_result"
    }
   ],
   "source": [
    "perps = data['perpetuals']['perpetuals']\n",
    "[p['params']['ticker'] for p in perps]"
   ]
  },
  {
   "cell_type": "code",
   "execution_count": 28,
   "metadata": {},
   "outputs": [
    {
     "data": {
      "text/plain": [
       "{'burn_proposal_deposit_prevote': False,\n",
       " 'burn_vote_quorum': False,\n",
       " 'burn_vote_veto': True,\n",
       " 'max_deposit_period': '86400s',\n",
       " 'min_deposit': '1000000',\n",
       " 'min_initial_deposit_ratio': 0,\n",
       " 'quorum': '0.33400',\n",
       " 'threshold': '0.50000',\n",
       " 'veto_threshold': '0.33400',\n",
       " 'voting_period': '86400s'}"
      ]
     },
     "execution_count": 28,
     "metadata": {},
     "output_type": "execute_result"
    }
   ],
   "source": [
    "gov_params = data['gov']['params'].copy()\n",
    "gov_params['min_deposit'] = gov_params['min_deposit'][0]['amount']\n",
    "gov_params['min_initial_deposit_ratio'] = 0\n",
    "gov_params"
   ]
  },
  {
   "cell_type": "code",
   "execution_count": 32,
   "metadata": {},
   "outputs": [
    {
     "name": "stdout",
     "output_type": "stream",
     "text": [
      "\\begin{tabular}{ll}\n",
      "\\toprule\n",
      " & 0 \\\\\n",
      "\\midrule\n",
      "burn_proposal_deposit_prevote & False \\\\\n",
      "burn_vote_quorum & False \\\\\n",
      "burn_vote_veto & True \\\\\n",
      "max_deposit_period & 86400s \\\\\n",
      "min_deposit & 1000000 \\\\\n",
      "min_initial_deposit_ratio & 0 \\\\\n",
      "quorum & 0.33400 \\\\\n",
      "threshold & 0.50000 \\\\\n",
      "veto_threshold & 0.33400 \\\\\n",
      "voting_period & 86400s \\\\\n",
      "\\bottomrule\n",
      "\\end{tabular}\n",
      "\n"
     ]
    }
   ],
   "source": [
    "import pandas as pd\n",
    "print(pd.DataFrame.from_dict(gov_params, orient='index').to_latex())"
   ]
  },
  {
   "cell_type": "code",
   "execution_count": null,
   "metadata": {},
   "outputs": [],
   "source": []
  }
 ],
 "metadata": {
  "kernelspec": {
   "display_name": "Python 3",
   "language": "python",
   "name": "python3"
  },
  "language_info": {
   "codemirror_mode": {
    "name": "ipython",
    "version": 3
   },
   "file_extension": ".py",
   "mimetype": "text/x-python",
   "name": "python",
   "nbconvert_exporter": "python",
   "pygments_lexer": "ipython3",
   "version": "3.11.5"
  },
  "orig_nbformat": 4
 },
 "nbformat": 4,
 "nbformat_minor": 2
}
